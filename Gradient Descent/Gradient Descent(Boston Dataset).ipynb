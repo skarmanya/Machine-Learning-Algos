{
 "cells": [
  {
   "cell_type": "code",
   "execution_count": 108,
   "metadata": {},
   "outputs": [
    {
     "data": {
      "text/plain": [
       "(379, 14)"
      ]
     },
     "execution_count": 108,
     "metadata": {},
     "output_type": "execute_result"
    }
   ],
   "source": [
    "import numpy as np\n",
    "import pandas as pd\n",
    "data=np.genfromtxt(\"0000000000002417_training_boston_x_y_train.csv\",delimiter=\",\")\n",
    "data.shape"
   ]
  },
  {
   "cell_type": "code",
   "execution_count": 109,
   "metadata": {},
   "outputs": [
    {
     "data": {
      "text/plain": [
       "(379, 13)"
      ]
     },
     "execution_count": 109,
     "metadata": {},
     "output_type": "execute_result"
    }
   ],
   "source": [
    "X=data[:,0:13]\n",
    "Y=data[:,13]\n",
    "X.shape"
   ]
  },
  {
   "cell_type": "code",
   "execution_count": 110,
   "metadata": {},
   "outputs": [
    {
     "data": {
      "text/plain": [
       "(379, 14)"
      ]
     },
     "execution_count": 110,
     "metadata": {},
     "output_type": "execute_result"
    }
   ],
   "source": [
    "#Adding first column squared data for more complex decision boundaries\n",
    "a1=np.zeros((379,1))\n",
    "for i in range(data.shape[0]):\n",
    "    a1[i,0] = (X[i,0]**2)\n",
    "    \n",
    "X=np.append(X,a1,axis=1)\n",
    "X.shape"
   ]
  },
  {
   "cell_type": "code",
   "execution_count": 111,
   "metadata": {},
   "outputs": [
    {
     "data": {
      "text/plain": [
       "(379, 15)"
      ]
     },
     "execution_count": 111,
     "metadata": {},
     "output_type": "execute_result"
    }
   ],
   "source": [
    "#Taking the intercept values as 1\n",
    "a=np.ones((379,1))\n",
    "X=np.append(X,a,axis=1)\n",
    "X.shape"
   ]
  },
  {
   "cell_type": "code",
   "execution_count": 112,
   "metadata": {},
   "outputs": [
    {
     "data": {
      "text/plain": [
       "(127, 13)"
      ]
     },
     "execution_count": 112,
     "metadata": {},
     "output_type": "execute_result"
    }
   ],
   "source": [
    "data2=np.genfromtxt(\"0000000000002417_test_boston_x_test.csv\",delimiter=\",\")\n",
    "data2.shape"
   ]
  },
  {
   "cell_type": "code",
   "execution_count": 113,
   "metadata": {},
   "outputs": [
    {
     "data": {
      "text/plain": [
       "(127, 14)"
      ]
     },
     "execution_count": 113,
     "metadata": {},
     "output_type": "execute_result"
    }
   ],
   "source": [
    "t=data2[:,0]\n",
    "t=t.reshape(-1,1)\n",
    "t=t**2\n",
    "\n",
    "data2=np.append(data2,t,axis=1)\n",
    "data2.shape"
   ]
  },
  {
   "cell_type": "code",
   "execution_count": 114,
   "metadata": {},
   "outputs": [
    {
     "data": {
      "text/plain": [
       "(127, 15)"
      ]
     },
     "execution_count": 114,
     "metadata": {},
     "output_type": "execute_result"
    }
   ],
   "source": [
    "a=np.ones((127,1))\n",
    "data2=np.append(data2,a,axis=1)\n",
    "data2.shape"
   ]
  },
  {
   "cell_type": "code",
   "execution_count": 116,
   "metadata": {},
   "outputs": [
    {
     "data": {
      "text/plain": [
       "(array([[-0.40784991, -0.48772236, -1.2660231 , ..., -1.09799011,\n",
       "          0.16634155,  1.        ],\n",
       "        [-0.40737368, -0.48772236,  0.24705682, ..., -0.52047412,\n",
       "          0.16595332,  1.        ],\n",
       "        [ 0.1251786 , -0.48772236,  1.01599907, ...,  0.89107588,\n",
       "          0.01566968,  1.        ],\n",
       "        ...,\n",
       "        [-0.40831101, -0.48772236,  0.24705682, ..., -0.33404299,\n",
       "          0.16671788,  1.        ],\n",
       "        [-0.41061997, -0.48772236, -1.15221381, ..., -0.74475218,\n",
       "          0.16860876,  1.        ],\n",
       "        [ 0.34290895, -0.48772236,  1.01599907, ..., -1.35871335,\n",
       "          0.11758655,  1.        ]]),\n",
       " array([[ 2.91816626, -0.48772236,  1.01599907, ...,  1.04106182,\n",
       "          8.51569432,  1.        ],\n",
       "        [-0.40339151, -0.48772236,  0.40609801, ..., -0.89473812,\n",
       "          0.16272471,  1.        ],\n",
       "        [-0.4131781 , -0.48772236,  0.11573841, ..., -0.50084979,\n",
       "          0.17071614,  1.        ],\n",
       "        ...,\n",
       "        [-0.41001449,  2.08745172, -1.37837329, ..., -0.68167397,\n",
       "          0.16811188,  1.        ],\n",
       "        [-0.40317611, -0.48772236, -0.37597609, ...,  0.20142086,\n",
       "          0.16255098,  1.        ],\n",
       "        [-0.13356344, -0.48772236,  1.2319449 , ...,  0.48877712,\n",
       "          0.01783919,  1.        ]]))"
      ]
     },
     "execution_count": 116,
     "metadata": {},
     "output_type": "execute_result"
    }
   ],
   "source": [
    "X,data2"
   ]
  },
  {
   "cell_type": "code",
   "execution_count": 123,
   "metadata": {},
   "outputs": [
    {
     "data": {
      "text/plain": [
       "(array([[-0.37199369, -0.45186614, -1.23016688, ..., -1.06213389,\n",
       "          0.20219777,  1.03585622],\n",
       "        [-0.37151746, -0.45186614,  0.28291304, ..., -0.4846179 ,\n",
       "          0.20180954,  1.03585622],\n",
       "        [ 0.16103482, -0.45186614,  1.05185529, ...,  0.9269321 ,\n",
       "          0.0515259 ,  1.03585622],\n",
       "        ...,\n",
       "        [-0.37245479, -0.45186614,  0.28291304, ..., -0.29818677,\n",
       "          0.2025741 ,  1.03585622],\n",
       "        [-0.37476375, -0.45186614, -1.11635759, ..., -0.70889596,\n",
       "          0.20446498,  1.03585622],\n",
       "        [ 0.37876517, -0.45186614,  1.05185529, ..., -1.32285713,\n",
       "          0.15344277,  1.03585622]]),\n",
       " array([[ 3.10453081, -0.30135781,  1.20236362, ...,  1.22742637,\n",
       "          8.70205887,  1.18636455],\n",
       "        [-0.21702696, -0.30135781,  0.59246256, ..., -0.70837357,\n",
       "          0.34908926,  1.18636455],\n",
       "        [-0.22681355, -0.30135781,  0.30210296, ..., -0.31448524,\n",
       "          0.35708069,  1.18636455],\n",
       "        ...,\n",
       "        [-0.22364994,  2.27381627, -1.19200874, ..., -0.49530942,\n",
       "          0.35447643,  1.18636455],\n",
       "        [-0.21681156, -0.30135781, -0.18961154, ...,  0.38778541,\n",
       "          0.34891552,  1.18636455],\n",
       "        [ 0.05280111, -0.30135781,  1.41830945, ...,  0.67514167,\n",
       "          0.20420374,  1.18636455]]))"
      ]
     },
     "execution_count": 123,
     "metadata": {},
     "output_type": "execute_result"
    }
   ],
   "source": [
    "#SCALING THE DATA:\n",
    "def scaling(data):\n",
    "    return data - data.mean()/(data.max()-data.min())\n",
    "\n",
    "X = scaling(X)\n",
    "Y = scaling(Y)\n",
    "data2 = scaling(data2)\n",
    "X,data2"
   ]
  },
  {
   "cell_type": "code",
   "execution_count": 125,
   "metadata": {},
   "outputs": [],
   "source": [
    "def calc_pred(X,m):\n",
    "    y_train_pred = np.dot(X,m.reshape(-1,1)) \n",
    "    return y_train_pred"
   ]
  },
  {
   "cell_type": "code",
   "execution_count": 126,
   "metadata": {},
   "outputs": [],
   "source": [
    "def calc_pred2(data2,m):\n",
    "    y_test_pred = np.dot(data2,m.reshape(-1,1)) \n",
    "    np.savetxt(\"boston_pred.csv\",y_test_pred,delimiter=\",\")\n",
    "    return y_test_pred"
   ]
  },
  {
   "cell_type": "code",
   "execution_count": 127,
   "metadata": {},
   "outputs": [],
   "source": [
    "def cost(X,Y,m):\n",
    "    rows=X.shape[0]\n",
    "    col=X.shape[1]\n",
    "    cost=0\n",
    "    for i in range(rows):\n",
    "        x=X[i,:]\n",
    "        y=Y[i]\n",
    "        ans=0\n",
    "        for j in range(col):\n",
    "            ans+=(m[j]*x[j])\n",
    "        \n",
    "        cost+=(1/rows)*((y-ans)**2)\n",
    "    \n",
    "    return cost"
   ]
  },
  {
   "cell_type": "code",
   "execution_count": 128,
   "metadata": {},
   "outputs": [],
   "source": [
    "def gd(X,Y,learning_rate,num_iterations,cost_list):\n",
    "    m=np.zeros(X.shape[1])\n",
    "    \n",
    "    for i in range(num_iterations):\n",
    "        m=step_gradient(X,Y,learning_rate,m)\n",
    "        cost_list.append(cost(X,Y,m))\n",
    "        #print(\"cost=\",cost(X,Y,m))\n",
    "        \n",
    "    return m"
   ]
  },
  {
   "cell_type": "code",
   "execution_count": 129,
   "metadata": {},
   "outputs": [],
   "source": [
    "def step_gradient(X,Y,learning_rate,m):\n",
    "    m_slope=np.zeros(X.shape[1])\n",
    "    rows=X.shape[0]\n",
    "    col=X.shape[1]\n",
    "    \n",
    "    for i in range(rows):\n",
    "        x=X[i,:]\n",
    "        y=Y[i]\n",
    "        ans=0\n",
    "        for j in range(col):\n",
    "            ans+=m[j]*x[j]\n",
    "        \n",
    "        for k in range(col):\n",
    "            m_slope[k] = (-2/rows)*(y-ans)*x[k]\n",
    "        \n",
    "        \n",
    "        m=m-(learning_rate)*m_slope\n",
    "    \n",
    "    return m\n",
    "        "
   ]
  },
  {
   "cell_type": "code",
   "execution_count": 145,
   "metadata": {},
   "outputs": [],
   "source": [
    "def run(X,Y):\n",
    "    cost_list = []\n",
    "    learning_rate=0.002\n",
    "    num_iterations=600\n",
    "    m = gd(X,Y,learning_rate,num_iterations,cost_list)\n",
    "    plot_cost(cost_list,num_iterations)\n",
    "    return m,cost_list"
   ]
  },
  {
   "cell_type": "code",
   "execution_count": 146,
   "metadata": {
    "scrolled": false
   },
   "outputs": [
    {
     "data": {
      "image/png": "[encoded data removed]",
      "text/plain": [
       "<Figure size 432x288 with 1 Axes>"
      ]
     },
     "metadata": {
      "needs_background": "light"
     },
     "output_type": "display_data"
    }
   ],
   "source": [
    "m,cost_list = run(X,Y)"
   ]
  },
  {
   "cell_type": "code",
   "execution_count": 147,
   "metadata": {},
   "outputs": [],
   "source": [
    "#Calculate Predictions\n",
    "y_train_pred=calc_pred(X,m)\n",
    "y_test_pred=calc_pred2(data2,m)"
   ]
  },
  {
   "cell_type": "code",
   "execution_count": 57,
   "metadata": {},
   "outputs": [],
   "source": [
    "import matplotlib.pyplot as plt\n",
    "def plot_cost(cost_list,num_iterations):\n",
    "    x_axis = np.array(range(num_iterations))\n",
    "    y_axis = np.array(cost_list)\n",
    "    plt.xlabel('Number of Iterations')\n",
    "    plt.ylabel('Cost')\n",
    "    plt.plot(x_axis,y_axis,c='r')"
   ]
  },
  {
   "cell_type": "code",
   "execution_count": 148,
   "metadata": {},
   "outputs": [
    {
     "data": {
      "image/png": "[encoded data removed]",
      "text/plain": [
       "<Figure size 432x288 with 1 Axes>"
      ]
     },
     "metadata": {
      "needs_background": "light"
     },
     "output_type": "display_data"
    }
   ],
   "source": [
    "def plot_pred(y_train_pred):\n",
    "    x_axis = np.array(range(Y.shape[0]))\n",
    "    plt.scatter(x_axis,Y,c='r',marker = 'o',label='True')\n",
    "    plt.scatter(x_axis,y_train_pred,c='b',marker = 's',label='Predicted')\n",
    "    plt.title('True values and Predictions')\n",
    "    plt.legend()\n",
    "    \n",
    "plot_pred(y_train_pred)"
   ]
  },
  {
   "cell_type": "code",
   "execution_count": null,
   "metadata": {},
   "outputs": [],
   "source": []
  }
 ],
 "metadata": {
  "kernelspec": {
   "display_name": "Python 3",
   "language": "python",
   "name": "python3"
  },
  "language_info": {
   "codemirror_mode": {
    "name": "ipython",
    "version": 3
   },
   "file_extension": ".py",
   "mimetype": "text/x-python",
   "name": "python",
   "nbconvert_exporter": "python",
   "pygments_lexer": "ipython3",
   "version": "3.7.1"
  }
 },
 "nbformat": 4,
 "nbformat_minor": 2
}
