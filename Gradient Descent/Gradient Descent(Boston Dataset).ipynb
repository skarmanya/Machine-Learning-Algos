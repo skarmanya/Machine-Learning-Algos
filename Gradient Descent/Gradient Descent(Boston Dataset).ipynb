{
 "cells": [
  {
   "cell_type": "code",
   "execution_count": 164,
   "metadata": {},
   "outputs": [
    {
     "data": {
      "text/plain": [
       "(379, 14)"
      ]
     },
     "execution_count": 164,
     "metadata": {},
     "output_type": "execute_result"
    }
   ],
   "source": [
    "import numpy as np\n",
    "import pandas as pd\n",
    "data=np.genfromtxt(\"0000000000002417_training_boston_x_y_train.csv\",delimiter=\",\")\n",
    "data.shape"
   ]
  },
  {
   "cell_type": "code",
   "execution_count": 165,
   "metadata": {},
   "outputs": [
    {
     "data": {
      "text/plain": [
       "(379, 13)"
      ]
     },
     "execution_count": 165,
     "metadata": {},
     "output_type": "execute_result"
    }
   ],
   "source": [
    "X=data[:,0:13]\n",
    "Y=data[:,13]\n",
    "X.shape"
   ]
  },
  {
   "cell_type": "code",
   "execution_count": 166,
   "metadata": {},
   "outputs": [
    {
     "data": {
      "text/plain": [
       "(379, 14)"
      ]
     },
     "execution_count": 166,
     "metadata": {},
     "output_type": "execute_result"
    }
   ],
   "source": [
    "a1=np.zeros((379,1))\n",
    "for i in range(data.shape[0]):\n",
    "    a1[i,0] = (X[i,0]**3)\n",
    "    \n",
    "X=np.append(X,a1,axis=1)\n",
    "X.shape"
   ]
  },
  {
   "cell_type": "code",
   "execution_count": 167,
   "metadata": {},
   "outputs": [
    {
     "data": {
      "text/plain": [
       "(379, 15)"
      ]
     },
     "execution_count": 167,
     "metadata": {},
     "output_type": "execute_result"
    }
   ],
   "source": [
    "a=np.ones((379,1))\n",
    "X=np.append(X,a,axis=1)\n",
    "X.shape"
   ]
  },
  {
   "cell_type": "code",
   "execution_count": 168,
   "metadata": {},
   "outputs": [
    {
     "data": {
      "text/plain": [
       "array([[ 2.91816626, -0.48772236,  1.01599907, ...,  0.80657583,\n",
       "        -1.59755122,  1.04106182],\n",
       "       [-0.40339151, -0.48772236,  0.40609801, ..., -1.13534664,\n",
       "         0.44105193, -0.89473812],\n",
       "       [-0.4131781 , -0.48772236,  0.11573841, ...,  1.17646583,\n",
       "         0.44105193, -0.50084979],\n",
       "       ...,\n",
       "       [-0.41001449,  2.08745172, -1.37837329, ..., -0.0719129 ,\n",
       "         0.39094481, -0.68167397],\n",
       "       [-0.40317611, -0.48772236, -0.37597609, ...,  1.13022958,\n",
       "         0.34007019,  0.20142086],\n",
       "       [-0.13356344, -0.48772236,  1.2319449 , ..., -1.73641788,\n",
       "        -2.93893082,  0.48877712]])"
      ]
     },
     "execution_count": 168,
     "metadata": {},
     "output_type": "execute_result"
    }
   ],
   "source": [
    "data2=np.genfromtxt(\"0000000000002417_test_boston_x_test.csv\",delimiter=\",\")\n",
    "data2.shape\n",
    "data2"
   ]
  },
  {
   "cell_type": "code",
   "execution_count": 169,
   "metadata": {},
   "outputs": [],
   "source": [
    "t=data2[:,0]\n",
    "t=t.reshape(-1,1)\n",
    "t=t**3"
   ]
  },
  {
   "cell_type": "code",
   "execution_count": 170,
   "metadata": {},
   "outputs": [
    {
     "data": {
      "text/plain": [
       "(127, 14)"
      ]
     },
     "execution_count": 170,
     "metadata": {},
     "output_type": "execute_result"
    }
   ],
   "source": [
    "data2=np.append(data2,t,axis=1)\n",
    "data2.shape"
   ]
  },
  {
   "cell_type": "code",
   "execution_count": 171,
   "metadata": {},
   "outputs": [
    {
     "data": {
      "text/plain": [
       "(127, 15)"
      ]
     },
     "execution_count": 171,
     "metadata": {},
     "output_type": "execute_result"
    }
   ],
   "source": [
    "a=np.ones((127,1))\n",
    "data2=np.append(data2,a,axis=1)\n",
    "data2.shape"
   ]
  },
  {
   "cell_type": "code",
   "execution_count": 172,
   "metadata": {},
   "outputs": [],
   "source": [
    "def calc_pred(X,m):\n",
    "    y_train_pred = np.dot(X,m.reshape((-1,1))) \n",
    "    return y_train_pred"
   ]
  },
  {
   "cell_type": "code",
   "execution_count": 173,
   "metadata": {},
   "outputs": [],
   "source": [
    "def calc_pred2(data2,m):\n",
    "    y_test_pred = np.dot(data2,m.reshape((-1,1))) \n",
    "    np.savetxt(\"boston_pred.csv\",y_test_pred,delimiter=\",\")\n",
    "    return y_test_pred"
   ]
  },
  {
   "cell_type": "code",
   "execution_count": 174,
   "metadata": {},
   "outputs": [],
   "source": [
    "def cost(X,Y,m):\n",
    "    rows=X.shape[0]\n",
    "    col=X.shape[1]\n",
    "    cost=0\n",
    "    for i in range(rows):\n",
    "        x=X[i,:]\n",
    "        y=Y[i]\n",
    "        ans=0\n",
    "        for j in range(col):\n",
    "            ans+=(m[j]*x[j])\n",
    "        \n",
    "        cost+=(1/rows)*((y-ans)**2)\n",
    "    \n",
    "    return cost"
   ]
  },
  {
   "cell_type": "code",
   "execution_count": 175,
   "metadata": {},
   "outputs": [],
   "source": [
    "def gd(X,Y,learning_rate,num_iterations):\n",
    "    m=np.zeros(X.shape[1])\n",
    "    \n",
    "    for i in range(num_iterations):\n",
    "        m=step_gradient(X,Y,learning_rate,m)\n",
    "        print(\"cost=\",cost(X,Y,m))\n",
    "        \n",
    "    return m"
   ]
  },
  {
   "cell_type": "code",
   "execution_count": 176,
   "metadata": {},
   "outputs": [],
   "source": [
    "def step_gradient(X,Y,learning_rate,m):\n",
    "    m_slope=np.zeros(X.shape[1])\n",
    "    rows=X.shape[0]\n",
    "    col=X.shape[1]\n",
    "    \n",
    "    for i in range(rows):\n",
    "        x=X[i,:]\n",
    "        y=Y[i]\n",
    "        ans=0\n",
    "        for j in range(col):\n",
    "            ans+=m[j]*x[j]\n",
    "        \n",
    "        for k in range(col):\n",
    "            m_slope[k]+=(-2/rows)*(y-ans)*x[k]\n",
    "        \n",
    "        \n",
    "        m=m-(learning_rate)*m_slope\n",
    "    \n",
    "    return m\n",
    "        "
   ]
  },
  {
   "cell_type": "code",
   "execution_count": 177,
   "metadata": {},
   "outputs": [],
   "source": [
    "def run(X,Y):\n",
    "    learning_rate=0.001\n",
    "    num_iterations=100\n",
    "    m = gd(X,Y,learning_rate,num_iterations)\n",
    "    y_train_pred=calc_pred(X,m)\n",
    "    y_test_pred=calc_pred2(data2,m)"
   ]
  },
  {
   "cell_type": "code",
   "execution_count": 179,
   "metadata": {},
   "outputs": [
    {
     "name": "stdout",
     "output_type": "stream",
     "text": [
      "cost= 1440151175220.1682\n",
      "cost= 1.2487668572433372e+24\n",
      "cost= 1.0828147986958833e+36\n",
      "cost= 9.389165651481525e+47\n",
      "cost= 8.141413632057276e+59\n",
      "cost= 7.059478806595497e+71\n",
      "cost= 6.121325272620714e+83\n",
      "cost= 5.3078455392793563e+95\n",
      "cost= 4.602471362673723e+107\n",
      "cost= 3.990836298357649e+119\n",
      "cost= 3.4604830981580648e+131\n",
      "cost= 3.0006099918369727e+143\n",
      "cost= 2.601850686080313e+155\n",
      "cost= 2.256083600025681e+167\n",
      "cost= 1.9562664520048932e+179\n",
      "cost= 1.6962928285087757e+191\n",
      "cost= 1.4708678140962681e+203\n",
      "cost= 1.2754001491866496e+215\n",
      "cost= 1.105908719299001e+227\n",
      "cost= 9.589414711935772e+238\n",
      "cost= 8.315051044699145e+250\n",
      "cost= 7.21004106641615e+262\n",
      "cost= 6.25187890007578e+274\n",
      "cost= 5.4210495364960215e+286\n",
      "cost= 4.700631369681151e+298\n",
      "cost= inf\n",
      "cost= inf"
     ]
    },
    {
     "name": "stderr",
     "output_type": "stream",
     "text": [
      "C:\\Users\\Karmanya\\Anaconda3\\lib\\site-packages\\ipykernel_launcher.py:12: RuntimeWarning: overflow encountered in double_scalars\n",
      "  if sys.path[0] == '':\n"
     ]
    },
    {
     "name": "stdout",
     "output_type": "stream",
     "text": [
      "\n",
      "cost= inf\n",
      "cost= inf\n",
      "cost= inf\n",
      "cost= inf\n",
      "cost= inf\n",
      "cost= inf\n",
      "cost= inf\n",
      "cost= inf\n",
      "cost= inf\n",
      "cost= inf\n",
      "cost= inf\n",
      "cost= inf\n",
      "cost= inf\n",
      "cost= inf\n",
      "cost= inf\n",
      "cost= inf\n",
      "cost= inf\n",
      "cost= inf\n",
      "cost= inf\n",
      "cost= inf\n",
      "cost= inf\n",
      "cost= inf\n",
      "cost= inf\n",
      "cost= inf\n",
      "cost= nan\n",
      "cost= nan\n",
      "cost= nan\n",
      "cost= nan\n",
      "cost= nan\n"
     ]
    },
    {
     "name": "stderr",
     "output_type": "stream",
     "text": [
      "C:\\Users\\Karmanya\\Anaconda3\\lib\\site-packages\\ipykernel_launcher.py:11: RuntimeWarning: overflow encountered in double_scalars\n",
      "  # This is added back by InteractiveShellApp.init_path()\n",
      "C:\\Users\\Karmanya\\Anaconda3\\lib\\site-packages\\ipykernel_launcher.py:11: RuntimeWarning: invalid value encountered in double_scalars\n",
      "  # This is added back by InteractiveShellApp.init_path()\n"
     ]
    },
    {
     "name": "stdout",
     "output_type": "stream",
     "text": [
      "cost= nan\n",
      "cost= nan\n",
      "cost= nan\n",
      "cost= nan\n",
      "cost= nan\n",
      "cost= nan\n",
      "cost= nan\n",
      "cost= nan\n",
      "cost= nan\n",
      "cost= nan\n",
      "cost= nan\n",
      "cost= nan\n",
      "cost= nan\n",
      "cost= nan\n",
      "cost= nan\n",
      "cost= nan\n",
      "cost= nan\n",
      "cost= nan\n",
      "cost= nan\n",
      "cost= nan\n",
      "cost= nan\n",
      "cost= nan\n",
      "cost= nan\n",
      "cost= nan\n",
      "cost= nan\n",
      "cost= nan\n",
      "cost= nan\n",
      "cost= nan\n",
      "cost= nan\n",
      "cost= nan\n",
      "cost= nan\n",
      "cost= nan\n",
      "cost= nan\n",
      "cost= nan\n",
      "cost= nan\n",
      "cost= nan\n",
      "cost= nan\n",
      "cost= nan\n",
      "cost= nan\n",
      "cost= nan\n",
      "cost= nan\n",
      "cost= nan\n",
      "cost= nan\n",
      "cost= nan\n"
     ]
    }
   ],
   "source": [
    "run(X,Y)"
   ]
  },
  {
   "cell_type": "code",
   "execution_count": null,
   "metadata": {},
   "outputs": [],
   "source": []
  }
 ],
 "metadata": {
  "kernelspec": {
   "display_name": "Python 3",
   "language": "python",
   "name": "python3"
  },
  "language_info": {
   "codemirror_mode": {
    "name": "ipython",
    "version": 3
   },
   "file_extension": ".py",
   "mimetype": "text/x-python",
   "name": "python",
   "nbconvert_exporter": "python",
   "pygments_lexer": "ipython3",
   "version": "3.7.1"
  }
 },
 "nbformat": 4,
 "nbformat_minor": 2
}
